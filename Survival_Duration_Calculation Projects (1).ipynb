{
 "cells": [
  {
   "cell_type": "code",
   "execution_count": 1,
   "id": "b3b399cb",
   "metadata": {},
   "outputs": [],
   "source": [
    "#survival Duration Calculation"
   ]
  },
  {
   "cell_type": "code",
   "execution_count": 1,
   "id": "d632cb55",
   "metadata": {},
   "outputs": [],
   "source": [
    "def duration_of_survival():\n",
    "\n",
    "    age = int(input(\"What's your age? \"))\n",
    "\n",
    "    unit = input(\"Please choose time unit: Months, Weeks, Days, Hours, Minutes, Seconds. \\nNote: You can write the first letter or the full name of the time unit. \").strip().lower()\n",
    "\n",
    "    months = age * 12\n",
    "    weeks = months * 4\n",
    "    days = age * 365\n",
    "    hours = days * 24\n",
    "    minutes = hours * 60\n",
    "    seconds = minutes * 60\n",
    "\n",
    "\n",
    "    if unit == 'months' or unit == 'm':\n",
    "        print(f'You lived for {months:,} Months')\n",
    "\n",
    "    elif unit == 'weeks' or unit == 'w':\n",
    "        print(f'You lived for {weeks:,} Weeks')\n",
    "\n",
    "    elif unit == 'days' or unit == 'd':\n",
    "        print(f'You lived for {days:,} Days')\n",
    "\n",
    "    elif unit == 'hours' or unit == 'h':\n",
    "        print(f'You lived for {hours:,} Hours')\n",
    "\n",
    "    elif unit == 'minutes' or unit == 'mi':\n",
    "        print(f'You lived for {minutes:,} Minutes')\n",
    "\n",
    "    elif unit == 'seconds' or unit == 's':\n",
    "        print(f'You lived for {seconds:,} Seconds')\n",
    "\n",
    "    else:\n",
    "        print('Your choice is not available')\n",
    "\n",
    "    return\n"
   ]
  },
  {
   "cell_type": "code",
   "execution_count": 3,
   "id": "d54b3780",
   "metadata": {},
   "outputs": [
    {
     "name": "stdout",
     "output_type": "stream",
     "text": [
      "What's your age? 10\n",
      "Please choose time unit: Months, Weeks, Days, Hours, Minutes, Seconds. \n",
      "Note: You can write the first letter or the full name of the time unit. m\n",
      "You lived for 120 Months\n"
     ]
    }
   ],
   "source": [
    "duration_of_survival()"
   ]
  },
  {
   "cell_type": "code",
   "execution_count": 2,
   "id": "782970c6",
   "metadata": {},
   "outputs": [
    {
     "name": "stdout",
     "output_type": "stream",
     "text": [
      "What's your age? 28\n",
      "Please choose time unit: Months, Weeks, Days, Hours, Minutes, Seconds. \n",
      "Note: You can write the first letter or the full name of the time unit. d\n",
      "You lived for 10,220 Days\n"
     ]
    }
   ],
   "source": [
    "duration_of_survival()\n"
   ]
  },
  {
   "cell_type": "code",
   "execution_count": 3,
   "id": "12c4df88",
   "metadata": {},
   "outputs": [
    {
     "name": "stdout",
     "output_type": "stream",
     "text": [
      "What's your age? 25\n",
      "Please choose time unit: Months, Weeks, Days, Hours, Minutes, Seconds. \n",
      "Note: You can write the first letter or the full name of the time unit. w\n",
      "You lived for 1,200 Weeks\n"
     ]
    }
   ],
   "source": [
    "duration_of_survival()"
   ]
  },
  {
   "cell_type": "code",
   "execution_count": null,
   "id": "106e0283",
   "metadata": {},
   "outputs": [],
   "source": []
  }
 ],
 "metadata": {
  "kernelspec": {
   "display_name": "Python 3 (ipykernel)",
   "language": "python",
   "name": "python3"
  },
  "language_info": {
   "codemirror_mode": {
    "name": "ipython",
    "version": 3
   },
   "file_extension": ".py",
   "mimetype": "text/x-python",
   "name": "python",
   "nbconvert_exporter": "python",
   "pygments_lexer": "ipython3",
   "version": "3.11.5"
  }
 },
 "nbformat": 4,
 "nbformat_minor": 5
}
